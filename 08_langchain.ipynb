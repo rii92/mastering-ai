{
  "cells": [
    {
      "cell_type": "markdown",
      "id": "be58b994-bc68-4166-91d5-282418b78864",
      "metadata": {
        "id": "be58b994-bc68-4166-91d5-282418b78864"
      },
      "source": [
        "# Project: Langchain"
      ]
    },
    {
      "cell_type": "markdown",
      "id": "c5120b06-0abf-49e3-b54d-db8afa9eda01",
      "metadata": {
        "id": "c5120b06-0abf-49e3-b54d-db8afa9eda01"
      },
      "source": [
        "**Instructions for Students:**\n",
        "\n",
        "Please carefully follow these steps to complete and submit your project:\n",
        "\n",
        "1. **Make a copy of the Project**: Please make a copy of this project either to your own Google Drive or download locally. Work on the copy of the project. The master project is **Read-Only**, meaning you can edit, but it will not be saved when you close the master project. To avoid total loss of your work, remember to make a copy.\n",
        "\n",
        "2. **Completing the Project**: You are required to work on and complete all tasks in the provided project. Be disciplined and ensure that you thoroughly engage with each task.\n",
        "   \n",
        "3. **Creating a Google Drive Folder**: Each of you must create a new folder on your Google Drive. This will be the repository for all your completed project files, aiding you in keeping your work organized and accessible.\n",
        "   \n",
        "4. **Uploading Completed Project**: Upon completion of your project, make sure to upload all necessary files, involving codes, reports, and related documents into the created Google Drive folder. Save this link in the 'Student Identity' section and also provide it as the last parameter in the `submit` function that has been provided.\n",
        "   \n",
        "5. **Sharing Folder Link**: You're required to share the link to your project Google Drive folder. This is crucial for the submission and evaluation of your project.\n",
        "   \n",
        "6. **Setting Permission to Public**: Please make sure your Google Drive folder is set to public. This allows your instructor to access your solutions and assess your work correctly.\n",
        "\n",
        "Adhering to these procedures will facilitate a smooth project evaluation process for you and the reviewers."
      ]
    },
    {
      "cell_type": "markdown",
      "id": "eca56111-19cb-46c0-a77b-11bd18c55673",
      "metadata": {
        "id": "eca56111-19cb-46c0-a77b-11bd18c55673"
      },
      "source": [
        "**Description:**\n",
        "\n",
        "Welcome to your project assignment on Langchain. This project will give you hands-on experience and a deeper understanding of the concepts you learned. You will be assigned the following novel `Pride and Prejudice` by Jane Austen:\n",
        "\n",
        "* In text file format (.txt) as your source of data: https://www.gutenberg.org/cache/epub/1342/pg1342.txt\n",
        "* Alternatively you can also use the html version: http://authorama.com/book/pride-and-prejudice.html\n",
        "\n",
        "Your task is to:\n",
        "\n",
        "* Create a chatbot that will receive a user query and get the answer based on the content of the novel.\n",
        "* Create a gradio interface for your chatbot.\n",
        "\n",
        "Remember, the key to mastering these concepts is practice. So, take your time to understand each task, apply your knowledge, and don't hesitate to ask questions if you encounter any difficulties. Good luck!"
      ]
    },
    {
      "cell_type": "markdown",
      "id": "d1cfea16-f8bf-4d6e-acf6-68bc94a4651e",
      "metadata": {
        "id": "d1cfea16-f8bf-4d6e-acf6-68bc94a4651e"
      },
      "source": [
        "## Grading Criteria\n",
        "\n",
        "There are 2 criterias for scoring, all have the same weight. Each criteria will give you either 100 point if you are correct and 0 if you are wrong. The final score for the project will the the average of all criterias in this project.\n",
        "\n",
        "* Criteria 1: This task will assess your ability to use langchain to pass a text input, query the LLM and return the result.\n",
        "\n",
        "* Criteria 2: This task will assess your ability to use Gradio as UI (User Interface) and interact with Langchain.\n"
      ]
    },
    {
      "cell_type": "markdown",
      "id": "c56269c6-cdf6-452a-ab67-1771dd20e7a9",
      "metadata": {
        "id": "c56269c6-cdf6-452a-ab67-1771dd20e7a9"
      },
      "source": [
        "**Notes:**\n",
        "\n",
        "Please take note of the following important points while working on this project:\n",
        "\n",
        "1. Do not change the Query Space code block, you can make a copy for your own inference.\n",
        "\n",
        "2. Feel free to add new code block to separate your code into manageable blocks.\n",
        "\n",
        "3. We recommend OpenAI or Gemini, a trial version is still available. But if you want to try other LLM, please feel free to do so.\n",
        "\n",
        "4. You do need to pass OPENAI_API_KEY as an environment variable because the Google Colab will be public, there are many methods, but here is one that you may use:\n",
        "   - Install python-dotenv\n",
        "   - Create an env file\n",
        "   - Fill the env file with the key-value pair for OPENAI_API_KEY\n",
        "   - Run the following magic command\n",
        "     - `%load_ext dotenv`\n",
        "     - `%dotenv ./openai.env`\n",
        "   - You can check if the API KEY is available using `os.environ`\n",
        "     - `os.environ['OPENAI_API_KEY']`"
      ]
    },
    {
      "cell_type": "code",
      "execution_count": 1,
      "id": "213a611a-c434-4894-ba35-689963ee5274",
      "metadata": {
        "id": "213a611a-c434-4894-ba35-689963ee5274"
      },
      "outputs": [],
      "source": [
        "# @title #### Student Identity\n",
        "student_id = \"REAWBBVN\" # @param {type:\"string\"}\n",
        "name = \"Riofebri Prasetia\" # @param {type:\"string\"}\n",
        "drive_link = \"https://drive.google.com/drive/u/0/folders/1YJaS9kdDtcqwlDiJbHpHL4Uxb3B-02oX\"  # @param {type:\"string\"}\n",
        "assignment_id = \"00_langchain_project\""
      ]
    },
    {
      "cell_type": "markdown",
      "id": "2c97aef3-b747-49f7-99e0-4086c03e4200",
      "metadata": {
        "id": "2c97aef3-b747-49f7-99e0-4086c03e4200"
      },
      "source": [
        "## Installation and Import `rggrader` Package"
      ]
    },
    {
      "cell_type": "code",
      "execution_count": 2,
      "id": "36c07e23-0280-467f-b0d2-44d966253bb4",
      "metadata": {
        "colab": {
          "base_uri": "https://localhost:8080/"
        },
        "id": "36c07e23-0280-467f-b0d2-44d966253bb4",
        "outputId": "e8e3f303-9555-4d48-c0ec-9af845c14689"
      },
      "outputs": [
        {
          "name": "stderr",
          "output_type": "stream",
          "text": [
            "\n",
            "[notice] A new release of pip is available: 23.3.2 -> 24.2\n",
            "[notice] To update, run: python.exe -m pip install --upgrade pip\n"
          ]
        },
        {
          "name": "stdout",
          "output_type": "stream",
          "text": [
            "Collecting rggrader\n",
            "  Downloading rggrader-0.1.6-py3-none-any.whl.metadata (485 bytes)\n",
            "Requirement already satisfied: requests in c:\\users\\bpssg\\appdata\\local\\programs\\python\\python312\\lib\\site-packages (from rggrader) (2.31.0)\n",
            "Collecting pandas (from rggrader)\n",
            "  Downloading pandas-2.2.3-cp312-cp312-win_amd64.whl.metadata (19 kB)\n",
            "Collecting Pillow (from rggrader)\n",
            "  Downloading pillow-10.4.0-cp312-cp312-win_amd64.whl.metadata (9.3 kB)\n",
            "Collecting numpy>=1.26.0 (from pandas->rggrader)\n",
            "  Downloading numpy-2.1.1-cp312-cp312-win_amd64.whl.metadata (59 kB)\n",
            "     ---------------------------------------- 0.0/59.7 kB ? eta -:--:--\n",
            "     ---------------------------------------- 59.7/59.7 kB 3.1 MB/s eta 0:00:00\n",
            "Requirement already satisfied: python-dateutil>=2.8.2 in c:\\users\\bpssg\\appdata\\local\\programs\\python\\python312\\lib\\site-packages (from pandas->rggrader) (2.9.0.post0)\n",
            "Collecting pytz>=2020.1 (from pandas->rggrader)\n",
            "  Downloading pytz-2024.2-py2.py3-none-any.whl.metadata (22 kB)\n",
            "Collecting tzdata>=2022.7 (from pandas->rggrader)\n",
            "  Downloading tzdata-2024.2-py2.py3-none-any.whl.metadata (1.4 kB)\n",
            "Requirement already satisfied: charset-normalizer<4,>=2 in c:\\users\\bpssg\\appdata\\local\\programs\\python\\python312\\lib\\site-packages (from requests->rggrader) (3.3.2)\n",
            "Requirement already satisfied: idna<4,>=2.5 in c:\\users\\bpssg\\appdata\\local\\programs\\python\\python312\\lib\\site-packages (from requests->rggrader) (3.6)\n",
            "Requirement already satisfied: urllib3<3,>=1.21.1 in c:\\users\\bpssg\\appdata\\local\\programs\\python\\python312\\lib\\site-packages (from requests->rggrader) (2.1.0)\n",
            "Requirement already satisfied: certifi>=2017.4.17 in c:\\users\\bpssg\\appdata\\local\\programs\\python\\python312\\lib\\site-packages (from requests->rggrader) (2023.11.17)\n",
            "Requirement already satisfied: six>=1.5 in c:\\users\\bpssg\\appdata\\local\\programs\\python\\python312\\lib\\site-packages (from python-dateutil>=2.8.2->pandas->rggrader) (1.16.0)\n",
            "Downloading rggrader-0.1.6-py3-none-any.whl (2.5 kB)\n",
            "Downloading pandas-2.2.3-cp312-cp312-win_amd64.whl (11.5 MB)\n",
            "   ---------------------------------------- 0.0/11.5 MB ? eta -:--:--\n",
            "    --------------------------------------- 0.3/11.5 MB 8.9 MB/s eta 0:00:02\n",
            "   - -------------------------------------- 0.5/11.5 MB 5.6 MB/s eta 0:00:02\n",
            "   ---- ----------------------------------- 1.2/11.5 MB 9.3 MB/s eta 0:00:02\n",
            "   ------ --------------------------------- 1.7/11.5 MB 10.1 MB/s eta 0:00:01\n",
            "   ------- -------------------------------- 2.0/11.5 MB 9.3 MB/s eta 0:00:02\n",
            "   --------- ------------------------------ 2.8/11.5 MB 10.7 MB/s eta 0:00:01\n",
            "   ----------- ---------------------------- 3.3/11.5 MB 10.5 MB/s eta 0:00:01\n",
            "   ------------- -------------------------- 3.7/11.5 MB 10.4 MB/s eta 0:00:01\n",
            "   -------------- ------------------------- 4.2/11.5 MB 10.3 MB/s eta 0:00:01\n",
            "   ---------------- ----------------------- 4.7/11.5 MB 10.3 MB/s eta 0:00:01\n",
            "   ----------------- ---------------------- 5.1/11.5 MB 10.3 MB/s eta 0:00:01\n",
            "   ------------------- -------------------- 5.6/11.5 MB 10.3 MB/s eta 0:00:01\n",
            "   --------------------- ------------------ 6.1/11.5 MB 10.3 MB/s eta 0:00:01\n",
            "   ---------------------- ----------------- 6.6/11.5 MB 10.3 MB/s eta 0:00:01\n",
            "   ------------------------ --------------- 7.1/11.5 MB 10.3 MB/s eta 0:00:01\n",
            "   -------------------------- ------------- 7.6/11.5 MB 10.3 MB/s eta 0:00:01\n",
            "   ---------------------------- ----------- 8.1/11.5 MB 10.3 MB/s eta 0:00:01\n",
            "   ----------------------------- ---------- 8.6/11.5 MB 10.4 MB/s eta 0:00:01\n",
            "   ------------------------------- -------- 9.1/11.5 MB 10.4 MB/s eta 0:00:01\n",
            "   --------------------------------- ------ 9.6/11.5 MB 10.4 MB/s eta 0:00:01\n",
            "   ----------------------------------- ---- 10.1/11.5 MB 10.4 MB/s eta 0:00:01\n",
            "   ------------------------------------ --- 10.6/11.5 MB 10.9 MB/s eta 0:00:01\n",
            "   -------------------------------------- - 11.2/11.5 MB 10.6 MB/s eta 0:00:01\n",
            "   ---------------------------------------- 11.5/11.5 MB 10.4 MB/s eta 0:00:00\n",
            "Downloading pillow-10.4.0-cp312-cp312-win_amd64.whl (2.6 MB)\n",
            "   ---------------------------------------- 0.0/2.6 MB ? eta -:--:--\n",
            "   ------ --------------------------------- 0.4/2.6 MB 12.6 MB/s eta 0:00:01\n",
            "   -------------- ------------------------- 0.9/2.6 MB 11.7 MB/s eta 0:00:01\n",
            "   ---------------------- ----------------- 1.5/2.6 MB 11.6 MB/s eta 0:00:01\n",
            "   ------------------------------- -------- 2.0/2.6 MB 11.7 MB/s eta 0:00:01\n",
            "   ---------------------------------------  2.5/2.6 MB 11.6 MB/s eta 0:00:01\n",
            "   ---------------------------------------- 2.6/2.6 MB 11.6 MB/s eta 0:00:00\n",
            "Downloading numpy-2.1.1-cp312-cp312-win_amd64.whl (12.6 MB)\n",
            "   ---------------------------------------- 0.0/12.6 MB ? eta -:--:--\n",
            "    --------------------------------------- 0.2/12.6 MB 9.6 MB/s eta 0:00:02\n",
            "   -- ------------------------------------- 0.8/12.6 MB 9.8 MB/s eta 0:00:02\n",
            "   --- ------------------------------------ 1.2/12.6 MB 9.3 MB/s eta 0:00:02\n",
            "   ----- ---------------------------------- 1.6/12.6 MB 9.2 MB/s eta 0:00:02\n",
            "   ------ --------------------------------- 2.0/12.6 MB 9.2 MB/s eta 0:00:02\n",
            "   ------- -------------------------------- 2.4/12.6 MB 9.0 MB/s eta 0:00:02\n",
            "   --------- ------------------------------ 2.9/12.6 MB 9.1 MB/s eta 0:00:02\n",
            "   ---------- ----------------------------- 3.3/12.6 MB 9.1 MB/s eta 0:00:02\n",
            "   ----------- ---------------------------- 3.7/12.6 MB 9.1 MB/s eta 0:00:01\n",
            "   ------------- -------------------------- 4.1/12.6 MB 9.1 MB/s eta 0:00:01\n",
            "   -------------- ------------------------- 4.6/12.6 MB 9.2 MB/s eta 0:00:01\n",
            "   ---------------- ----------------------- 5.0/12.6 MB 9.2 MB/s eta 0:00:01\n",
            "   ----------------- ---------------------- 5.5/12.6 MB 9.2 MB/s eta 0:00:01\n",
            "   ------------------ --------------------- 6.0/12.6 MB 9.3 MB/s eta 0:00:01\n",
            "   -------------------- ------------------- 6.3/12.6 MB 9.3 MB/s eta 0:00:01\n",
            "   -------------------- ------------------- 6.3/12.6 MB 8.6 MB/s eta 0:00:01\n",
            "   --------------------- ------------------ 6.6/12.6 MB 8.5 MB/s eta 0:00:01\n",
            "   ---------------------- ----------------- 7.1/12.6 MB 8.5 MB/s eta 0:00:01\n",
            "   ------------------------ --------------- 7.6/12.6 MB 8.6 MB/s eta 0:00:01\n",
            "   ------------------------- -------------- 8.0/12.6 MB 8.7 MB/s eta 0:00:01\n",
            "   --------------------------- ------------ 8.5/12.6 MB 8.8 MB/s eta 0:00:01\n",
            "   ---------------------------- ----------- 9.0/12.6 MB 8.9 MB/s eta 0:00:01\n",
            "   ------------------------------ --------- 9.5/12.6 MB 9.0 MB/s eta 0:00:01\n",
            "   -------------------------------- ------- 10.1/12.6 MB 9.0 MB/s eta 0:00:01\n",
            "   --------------------------------- ------ 10.6/12.6 MB 9.1 MB/s eta 0:00:01\n",
            "   ----------------------------------- ---- 11.1/12.6 MB 9.2 MB/s eta 0:00:01\n",
            "   ------------------------------------ --- 11.6/12.6 MB 9.4 MB/s eta 0:00:01\n",
            "   -------------------------------------- - 12.1/12.6 MB 9.4 MB/s eta 0:00:01\n",
            "   ---------------------------------------  12.6/12.6 MB 9.4 MB/s eta 0:00:01\n",
            "   ---------------------------------------- 12.6/12.6 MB 9.2 MB/s eta 0:00:00\n",
            "Downloading pytz-2024.2-py2.py3-none-any.whl (508 kB)\n",
            "   ---------------------------------------- 0.0/508.0 kB ? eta -:--:--\n",
            "   ---------------------------- ---------- 368.6/508.0 kB 11.6 MB/s eta 0:00:01\n",
            "   --------------------------------------- 508.0/508.0 kB 10.6 MB/s eta 0:00:00\n",
            "Downloading tzdata-2024.2-py2.py3-none-any.whl (346 kB)\n",
            "   ---------------------------------------- 0.0/346.6 kB ? eta -:--:--\n",
            "   --------------------------------------- 346.6/346.6 kB 10.5 MB/s eta 0:00:00\n",
            "Installing collected packages: pytz, tzdata, Pillow, numpy, pandas, rggrader\n",
            "Successfully installed Pillow-10.4.0 numpy-2.1.1 pandas-2.2.3 pytz-2024.2 rggrader-0.1.6 tzdata-2024.2\n",
            "Note: you may need to restart the kernel to use updated packages.\n"
          ]
        }
      ],
      "source": [
        "%pip install rggrader\n",
        "from rggrader import submit_image\n",
        "from rggrader import submit"
      ]
    },
    {
      "cell_type": "markdown",
      "id": "a4af3420-ff0e-472b-8b44-7a495ddf76c3",
      "metadata": {
        "id": "a4af3420-ff0e-472b-8b44-7a495ddf76c3"
      },
      "source": [
        "## Working Space"
      ]
    },
    {
      "cell_type": "code",
      "execution_count": 36,
      "id": "f71f16b6",
      "metadata": {},
      "outputs": [
        {
          "name": "stdout",
          "output_type": "stream",
          "text": [
            "Requirement already satisfied: transformers in c:\\users\\bpssg\\appdata\\local\\programs\\python\\python312\\lib\\site-packages (4.45.1)\n",
            "Requirement already satisfied: filelock in c:\\users\\bpssg\\appdata\\local\\programs\\python\\python312\\lib\\site-packages (from transformers) (3.16.1)\n",
            "Requirement already satisfied: huggingface-hub<1.0,>=0.23.2 in c:\\users\\bpssg\\appdata\\local\\programs\\python\\python312\\lib\\site-packages (from transformers) (0.25.1)\n",
            "Requirement already satisfied: numpy>=1.17 in c:\\users\\bpssg\\appdata\\local\\programs\\python\\python312\\lib\\site-packages (from transformers) (2.1.1)\n",
            "Requirement already satisfied: packaging>=20.0 in c:\\users\\bpssg\\appdata\\local\\programs\\python\\python312\\lib\\site-packages (from transformers) (24.1)\n",
            "Requirement already satisfied: pyyaml>=5.1 in c:\\users\\bpssg\\appdata\\local\\programs\\python\\python312\\lib\\site-packages (from transformers) (6.0.2)\n",
            "Requirement already satisfied: regex!=2019.12.17 in c:\\users\\bpssg\\appdata\\local\\programs\\python\\python312\\lib\\site-packages (from transformers) (2024.9.11)\n",
            "Requirement already satisfied: requests in c:\\users\\bpssg\\appdata\\local\\programs\\python\\python312\\lib\\site-packages (from transformers) (2.31.0)\n",
            "Requirement already satisfied: safetensors>=0.4.1 in c:\\users\\bpssg\\appdata\\local\\programs\\python\\python312\\lib\\site-packages (from transformers) (0.4.5)\n",
            "Requirement already satisfied: tokenizers<0.21,>=0.20 in c:\\users\\bpssg\\appdata\\local\\programs\\python\\python312\\lib\\site-packages (from transformers) (0.20.0)\n",
            "Requirement already satisfied: tqdm>=4.27 in c:\\users\\bpssg\\appdata\\local\\programs\\python\\python312\\lib\\site-packages (from transformers) (4.66.5)\n",
            "Requirement already satisfied: fsspec>=2023.5.0 in c:\\users\\bpssg\\appdata\\local\\programs\\python\\python312\\lib\\site-packages (from huggingface-hub<1.0,>=0.23.2->transformers) (2024.9.0)\n",
            "Requirement already satisfied: typing-extensions>=3.7.4.3 in c:\\users\\bpssg\\appdata\\local\\programs\\python\\python312\\lib\\site-packages (from huggingface-hub<1.0,>=0.23.2->transformers) (4.12.2)\n",
            "Requirement already satisfied: colorama in c:\\users\\bpssg\\appdata\\local\\programs\\python\\python312\\lib\\site-packages (from tqdm>=4.27->transformers) (0.4.6)\n",
            "Requirement already satisfied: charset-normalizer<4,>=2 in c:\\users\\bpssg\\appdata\\local\\programs\\python\\python312\\lib\\site-packages (from requests->transformers) (3.3.2)\n",
            "Requirement already satisfied: idna<4,>=2.5 in c:\\users\\bpssg\\appdata\\local\\programs\\python\\python312\\lib\\site-packages (from requests->transformers) (3.6)\n",
            "Requirement already satisfied: urllib3<3,>=1.21.1 in c:\\users\\bpssg\\appdata\\local\\programs\\python\\python312\\lib\\site-packages (from requests->transformers) (2.1.0)\n",
            "Requirement already satisfied: certifi>=2017.4.17 in c:\\users\\bpssg\\appdata\\local\\programs\\python\\python312\\lib\\site-packages (from requests->transformers) (2023.11.17)\n",
            "Note: you may need to restart the kernel to use updated packages.\n"
          ]
        },
        {
          "name": "stderr",
          "output_type": "stream",
          "text": [
            "\n",
            "[notice] A new release of pip is available: 23.3.2 -> 24.2\n",
            "[notice] To update, run: python.exe -m pip install --upgrade pip\n"
          ]
        }
      ],
      "source": [
        "%pip install --upgrade transformers"
      ]
    },
    {
      "cell_type": "code",
      "execution_count": 49,
      "id": "c1fb239a-1c81-4476-9009-d87abadf9506",
      "metadata": {
        "id": "c1fb239a-1c81-4476-9009-d87abadf9506"
      },
      "outputs": [
        {
          "name": "stdout",
          "output_type": "stream",
          "text": [
            "Pride and Prejudice excerpt:\n",
            "﻿The Project Gutenberg eBook of Pride and Prejudice\n",
            "    \n",
            "This ebook is for the use of anyone anywhere in the United States and\n",
            "most other parts of the world at no cost and with almost no restrictions\n",
            "whatsoever. You may copy it, give it away or re-use it under the terms\n",
            "of the Project Gutenberg License included with this ebook or online\n",
            "at www.gutenberg.org. If you are not located in the United States,\n",
            "you will have to check the laws of the country where you are located\n",
            "before using this...\n",
            "\n",
            "Question: What are the full names of the two main characters in Pride and Prejudice?\n",
            "Answer:\n",
            "\n",
            "﻿The Project Gutenberg eBook of Pride and Prejudice\n",
            "\n",
            "﻿The Project Gutenberg eBook of Pride and Prejudice\n",
            "\n",
            "﻿The Project Gutenberg eBook of Pride and Prejudice\n",
            "\n",
            "﻿The Project Gutenberg eBook of Pride and Prejudice\n",
            "\n",
            "﻿The Project Gutenberg eBook of Pride and Prejudice\n",
            "\n",
            "﻿The Project Gutenberg eBook of Pride and Prejudice\n",
            "\n",
            "﻿The Project Gutenberg eBook of\n"
          ]
        }
      ],
      "source": [
        "# Langkah 1: Import library yang dibutuhkan\n",
        "from langchain.llms import HuggingFaceHub\n",
        "from dotenv import load_dotenv\n",
        "import requests\n",
        "import os\n",
        "\n",
        "# Langkah 2: Memuat API Token dari file .env\n",
        "load_dotenv(\".env\")\n",
        "\n",
        "# Mendapatkan token dari environment\n",
        "huggingfacehub_api_token = os.getenv(\"HUGGINGFACEHUB_API_TOKEN\")\n",
        "\n",
        "# Langkah 3: Setup LLM dari Hugging Face menggunakan task 'text-generation'\n",
        "llm = HuggingFaceHub(repo_id=\"gpt2\", huggingfacehub_api_token=huggingfacehub_api_token, task=\"text-generation\")\n",
        "\n",
        "# Langkah 4: Mengunduh teks novel Pride and Prejudice dari Project Gutenberg\n",
        "novel_url = \"https://www.gutenberg.org/cache/epub/1342/pg1342.txt\"\n",
        "novel_text = requests.get(novel_url).text\n",
        "\n",
        "# Langkah 5: Membuat fungsi untuk menghasilkan jawaban berdasarkan query\n",
        "def generate_answer(query):\n",
        "    # Menggunakan prompt yang berisi teks novel dan pertanyaan pengguna\n",
        "    prompt = f\"Pride and Prejudice excerpt:\\n{novel_text[:500]}...\\n\\nQuestion: {query}\\nAnswer:\"\n",
        "    response = llm(prompt)\n",
        "    return response\n",
        "\n",
        "\n",
        "# Langkah 6: Menjalankan query contoh untuk menguji sistem\n",
        "query = \"What are the full names of the two main characters in Pride and Prejudice?\"\n",
        "answer = generate_answer(query)\n",
        "print(answer)"
      ]
    },
    {
      "cell_type": "markdown",
      "id": "fc8d6a4a-e296-4540-92ff-c813131a4e41",
      "metadata": {
        "id": "fc8d6a4a-e296-4540-92ff-c813131a4e41"
      },
      "source": [
        "## Query Space"
      ]
    },
    {
      "cell_type": "code",
      "execution_count": 51,
      "id": "2acc62c3-a773-4761-951c-fbf8ead87261",
      "metadata": {
        "id": "2acc62c3-a773-4761-951c-fbf8ead87261"
      },
      "outputs": [
        {
          "name": "stdout",
          "output_type": "stream",
          "text": [
            "Pride and Prejudice excerpt:\n",
            "﻿The Project Gutenberg eBook of Pride and Prejudice\n",
            "    \n",
            "This ebook is for the use of anyone anywhere in the United States and\n",
            "most other parts of the world at no cost and with almost no restrictions\n",
            "whatsoever. You may copy it, give it away or re-use it under the terms\n",
            "of the Project Gutenberg License included with this ebook or online\n",
            "at www.gutenberg.org. If you are not located in the United States,\n",
            "you will have to check the laws of the country where you are located\n",
            "before using this...\n",
            "\n",
            "Question: What are the full names of the two main characters in Pride and Prejudice ?\n",
            "Answer:\n",
            "\n",
            "﻿The Project Gutenberg eBook of Pride and Prejudice\n",
            "\n",
            "﻿The Project Gutenberg eBook of Pride and Prejudice\n",
            "\n",
            "﻿The Project Gutenberg eBook of Pride and Prejudice\n",
            "\n",
            "﻿The Project Gutenberg eBook of Pride and Prejudice\n",
            "\n",
            "﻿The Project Gutenberg eBook of Pride and Prejudice\n",
            "\n",
            "﻿The Project Gutenberg eBook of Pride and Prejudice\n",
            "\n",
            "﻿The Project Gutenberg eBook of\n"
          ]
        },
        {
          "data": {
            "text/plain": [
              "'Assignment successfully submitted'"
            ]
          },
          "execution_count": 51,
          "metadata": {},
          "output_type": "execute_result"
        }
      ],
      "source": [
        "query = \"What are the full names of the two main characters in Pride and Prejudice ?\"\n",
        "answer = generate_answer(query)\n",
        "print(answer)\n",
        "\n",
        "question_id = \"00_langchain_query_answer\"\n",
        "submit(student_id, name, assignment_id, str(answer), question_id, drive_link)"
      ]
    },
    {
      "cell_type": "markdown",
      "id": "2b151c52-20a3-432f-ab16-4721c16581c4",
      "metadata": {
        "id": "2b151c52-20a3-432f-ab16-4721c16581c4"
      },
      "source": [
        "## Submit Gradio screenshot\n",
        "\n",
        "![Upload colab](https://storage.googleapis.com/rg-ai-bootcamp/project-3-pipeline-and-gradio/upload-colab.png)\n",
        "\n",
        "You need to submit screenshot of your Gradio's app. In Google Colab you can just use the \"Folder\" sidebar and click the upload button.\n",
        "\n",
        "Make sure your screenshot match below requirements:\n",
        "\n",
        "- It should have an input box for user to type the query and an output box for user to type the query.\n",
        "- It should have the query and the answer from Query Space block in the respective boxes."
      ]
    },
    {
      "cell_type": "markdown",
      "id": "ce55a43f-9af3-47ee-8b76-2a6597159635",
      "metadata": {
        "id": "ce55a43f-9af3-47ee-8b76-2a6597159635"
      },
      "source": [
        "Example of Expected Output:\n",
        "\n",
        "![gradio-result](https://storage.googleapis.com/rg-ai-bootcamp/projects/langchain-gradio.png)"
      ]
    },
    {
      "cell_type": "code",
      "execution_count": 55,
      "id": "8d025e7e-e51c-4194-ba0e-1eb83cc92315",
      "metadata": {
        "id": "8d025e7e-e51c-4194-ba0e-1eb83cc92315"
      },
      "outputs": [
        {
          "name": "stdout",
          "output_type": "stream",
          "text": [
            "Running on local URL:  http://127.0.0.1:7860\n",
            "\n",
            "To create a public link, set `share=True` in `launch()`.\n"
          ]
        },
        {
          "data": {
            "text/html": [
              "<div><iframe src=\"http://127.0.0.1:7860/\" width=\"100%\" height=\"500\" allow=\"autoplay; camera; microphone; clipboard-read; clipboard-write;\" frameborder=\"0\" allowfullscreen></iframe></div>"
            ],
            "text/plain": [
              "<IPython.core.display.HTML object>"
            ]
          },
          "metadata": {},
          "output_type": "display_data"
        },
        {
          "data": {
            "text/plain": []
          },
          "execution_count": 55,
          "metadata": {},
          "output_type": "execute_result"
        }
      ],
      "source": [
        "import gradio as gr\n",
        "\n",
        "\n",
        "# Langkah 6: Membuat antarmuka Gradio untuk interaksi pengguna\n",
        "def gradio_interface(query):\n",
        "    return generate_answer(query)\n",
        "\n",
        "# Membuat antarmuka Gradio\n",
        "interface = gr.Interface(fn=gradio_interface, inputs=\"text\", outputs=\"text\", title=\"Pride and Prejudice QA Chatbot\")\n",
        "interface.launch()"
      ]
    },
    {
      "cell_type": "code",
      "execution_count": 56,
      "id": "ced6b581-708f-4758-86ff-3cd51bf14f99",
      "metadata": {
        "id": "ced6b581-708f-4758-86ff-3cd51bf14f99"
      },
      "outputs": [
        {
          "data": {
            "text/plain": [
              "'Assignment successfully submitted'"
            ]
          },
          "execution_count": 56,
          "metadata": {},
          "output_type": "execute_result"
        }
      ],
      "source": [
        "question_id = \"01_langchain_gradio\"\n",
        "submit_image(student_id, question_id, './submission.jpg')"
      ]
    },
    {
      "cell_type": "markdown",
      "id": "792aa177-c74e-42e5-9881-40376cd746a8",
      "metadata": {
        "id": "792aa177-c74e-42e5-9881-40376cd746a8"
      },
      "source": [
        "# FIN"
      ]
    }
  ],
  "metadata": {
    "colab": {
      "provenance": []
    },
    "kernelspec": {
      "display_name": "Python 3 (ipykernel)",
      "language": "python",
      "name": "python3"
    },
    "language_info": {
      "codemirror_mode": {
        "name": "ipython",
        "version": 3
      },
      "file_extension": ".py",
      "mimetype": "text/x-python",
      "name": "python",
      "nbconvert_exporter": "python",
      "pygments_lexer": "ipython3",
      "version": "3.12.1"
    }
  },
  "nbformat": 4,
  "nbformat_minor": 5
}
